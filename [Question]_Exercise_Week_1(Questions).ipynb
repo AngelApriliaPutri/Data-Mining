{
  "cells": [
    {
      "cell_type": "markdown",
      "metadata": {
        "id": "re8S5yd8u1eZ"
      },
      "source": [
        "<h2> Python Basics"
      ]
    },
    {
      "cell_type": "markdown",
      "metadata": {
        "id": "5H441cQou1ee"
      },
      "source": [
        "I. Cobalah print kalimat \"Hello, my name is ***nama anda***\" dengan minimal 2 cara: <br>\n",
        "a.   Print biasa (nama diletakkan langsung dalam string yang di print)<br>\n",
        "b.  Menggunakan variabel (nama disimpan dulu di variabel)<br>\n",
        "c.  Menggunakan operator dan variabel<br>\n",
        "d.  Menggunakan .format()"
      ]
    },
    {
      "cell_type": "code",
      "execution_count": 1,
      "metadata": {
        "id": "EJlHc6Ptu1ef",
        "colab": {
          "base_uri": "https://localhost:8080/"
        },
        "outputId": "409f6c9d-0337-4eb4-fdc0-bc777c6e2db8"
      },
      "outputs": [
        {
          "output_type": "stream",
          "name": "stdout",
          "text": [
            "Hello, my name is Angel\n",
            "Hello, my name is Angel\n"
          ]
        }
      ],
      "source": [
        "print (\"Hello, my name is Angel\")\n",
        "nama = \"Angel\"\n",
        "print (\"Hello, my name is \" + nama)\n"
      ]
    },
    {
      "cell_type": "markdown",
      "metadata": {
        "id": "ykD_f9Cfu1eg"
      },
      "source": [
        "II. Selesaikan soal cerita berikut menggunakan python:<br>\n",
        "a.  Jose membeli 4 kotak kelereng, tiap kotak berisi 15 buah kelereng. Kelereng itu akan dibagikan kepada 12 orang temannya, setiap teman akan mendapat ... kelereng.<br>\n",
        "b.  Hasil dari 8 pangkat 1/3 adalah ...<br>\n",
        "c.  Catharina memiliki uang sebesar Rp 50.000 untuk dibelanjakan kertas binder, 1 paket kertas binder isi 100 lembar dijual seharga 7500, jika ia ingin membeli berapa kertas binder yang dapat ia beli dengan uang yang ia punya? Berapa kembalian yang diterima?"
      ]
    },
    {
      "cell_type": "code",
      "execution_count": 2,
      "metadata": {
        "id": "HZMGFAk6u1eg",
        "colab": {
          "base_uri": "https://localhost:8080/"
        },
        "outputId": "740a1597-e00f-438b-8657-83358b5c7d9d"
      },
      "outputs": [
        {
          "output_type": "stream",
          "name": "stdout",
          "text": [
            "5.0\n",
            "2.6666666666666665\n",
            "6\n",
            "5000\n",
            "600\n"
          ]
        }
      ],
      "source": [
        "# Soal a\n",
        "kotak = 4\n",
        "isi = 15\n",
        "orang = 12\n",
        "tiaporang = (kotak * isi)/orang\n",
        "print (tiaporang)\n",
        "\n",
        "\n",
        "# Soal b\n",
        "Hasil = 8**1/3\n",
        "print (Hasil)\n",
        "\n",
        "# Soal c\n",
        "uang = 50000\n",
        "isi = 100\n",
        "binder = 7500\n",
        "\n",
        "import math\n",
        "beli = math.floor(uang / binder)\n",
        "print (beli)\n",
        "\n",
        "kembalian = uang - (binder * beli)\n",
        "print (kembalian)\n",
        "\n",
        "kertas = isi * beli\n",
        "print (kertas)"
      ]
    },
    {
      "cell_type": "markdown",
      "metadata": {
        "id": "ogSVphwKu1eh"
      },
      "source": [
        "III. Tunjukan cara untuk mengonversi tipe-tipe data berikut:\n",
        "\n",
        "1. \"1000\" -> 1000 (string ke int)\n",
        "2. 5.25 -> 5 (float ke int)\n",
        "3. 5 -> 5.0 (int ke float)\n",
        "4. 1000 -> \"1000\" (int ke string)\n",
        "\n",
        "Expected output:\n",
        "\n",
        "\n",
        "![image.png](data:image/png;base64,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)"
      ]
    },
    {
      "cell_type": "code",
      "execution_count": 3,
      "metadata": {
        "id": "1380euOQu1ei",
        "colab": {
          "base_uri": "https://localhost:8080/"
        },
        "outputId": "0647a57a-decd-4aec-fda4-9a42e1a7a92c"
      },
      "outputs": [
        {
          "output_type": "stream",
          "name": "stdout",
          "text": [
            "1000<class 'int'>\n",
            "5<class 'int'>\n",
            "5.0<class 'float'>\n",
            "1000<class 'str'>\n"
          ]
        }
      ],
      "source": [
        "# Konversi\n",
        "string = \"1000\"\n",
        "integer = int(string)\n",
        "print (str(integer) + str(type(integer)))\n",
        "\n",
        "f = 5.25\n",
        "i = int(f)\n",
        "print (str(i) + str(type(i)))\n",
        "\n",
        "i2 = 5\n",
        "f2 = float(i2)\n",
        "print (str(f2) + str(type(f2)))\n",
        "\n",
        "i3 = 1000\n",
        "s = str(i3)\n",
        "print (str(s) + str(type(s)))\n"
      ]
    },
    {
      "cell_type": "markdown",
      "metadata": {
        "id": "DhXG-jySu1ej"
      },
      "source": [
        "IV. String\n",
        "\n",
        "\"If you want to know what a man's like, take a good look at how he treats his inferiors, not his equals.\"\n",
        "\n",
        "1. Tampilkan indeks ke 20 sampai 30 dari string di atas (indeks ke 30 ikut)\n",
        "2. Bagaimana cara memisah string berdasarkan spasi (simpan dalam list)\n",
        "3. Balik string di atas dengan menggunakan satu baris kode (menggunakan index)\n"
      ]
    },
    {
      "cell_type": "code",
      "execution_count": 4,
      "metadata": {
        "id": "kUE0OZhIu1ek",
        "colab": {
          "base_uri": "https://localhost:8080/"
        },
        "outputId": "ebcdd5a4-72f0-47f1-a4d2-711297d6a06c"
      },
      "outputs": [
        {
          "output_type": "stream",
          "name": "stdout",
          "text": [
            "what a man'\n",
            "['If', 'you', 'want', 'to', 'know', 'what', 'a', \"man's\", 'like,', 'take', 'a', 'good', 'look', 'at', 'how', 'he', 'treats', 'his', 'inferiors,', 'not', 'his', 'equals.']\n",
            ".slauqe sih ton ,sroirefni sih staert eh woh ta kool doog a ekat ,ekil s'nam a tahw wonk ot tnaw uoy fI\n"
          ]
        }
      ],
      "source": [
        "# 1\n",
        "kalimat = \"If you want to know what a man's like, take a good look at how he treats his inferiors, not his equals.\"\n",
        "substring = kalimat[20:31]\n",
        "print (substring)\n",
        "\n",
        "# 2\n",
        "list = kalimat.split(' ')\n",
        "print (list)\n",
        "\n",
        "# 3\n",
        "print (kalimat[::-1])\n"
      ]
    },
    {
      "cell_type": "markdown",
      "metadata": {
        "id": "PFAMzNc6u1el"
      },
      "source": [
        "<h2> Python Data Strcutures"
      ]
    },
    {
      "cell_type": "markdown",
      "metadata": {
        "id": "m9AKxWKzu1el"
      },
      "source": [
        "I. Tuple\n",
        "\n",
        "\n",
        "1.   Buatlah sebuah tuple yang berisikan nama fakultas di UC, simpan dalam variabel \"fakultas\".\n",
        "2.   Cetaklah jumlah fakultas di UC dengan mencari panjang tuple yang dibuat.\n",
        "3.   Gunakan .index() untuk mengetahui posisi/index fakultas SIFT"
      ]
    },
    {
      "cell_type": "code",
      "execution_count": 5,
      "metadata": {
        "colab": {
          "base_uri": "https://localhost:8080/"
        },
        "id": "sA1w4YBcu1em",
        "outputId": "a25357a1-dd57-4521-fd62-881fa5559eaa"
      },
      "outputs": [
        {
          "output_type": "stream",
          "name": "stdout",
          "text": [
            "9\n",
            "3\n"
          ]
        }
      ],
      "source": [
        "# Fakultas\n",
        "fakultas = (\"School of Business Management\", \"School of Creative Industry\", \"School of Tourism\", \"School of Information Technology\", \"School of Medicine\", \"School of Dental Medicine\", \"School of Psychology\", \"School of Communication Science and Media Business\", \"School of Entrepreneurship and Humanities\")\n",
        "print (len(fakultas))\n",
        "\n",
        "print (fakultas.index(\"School of Information Technology\"))"
      ]
    },
    {
      "cell_type": "markdown",
      "metadata": {
        "id": "SiOS0ttQu1em"
      },
      "source": [
        "II. List\n",
        "\n",
        "\n",
        "1.   Buatlah sebuah list berisi 3 nama makanan kesukaanmu. Simpan dalam variabel \"favorit\".\n",
        "2.   Cetak nama setiap makanan dengan mengakses setiap elemen dalam list satu persatu.\n",
        "3. Kamu sedang berada di sebuah restoran dan hendak memesan salah satu menu yang ada dalam daftar favoritmu. Cetak setiap makanan dengan contoh: \"Aku ingin pesan {nama makanan}\"\n",
        "4.   Ternyata, salah satu menu tidak tersedia, jadi kamu perlu memesan makanan lain. Ganti salah satu makanan favoritmu yang kosong dengan nama makanan baru (makanan yang mana bebas). Cetak makanan favorit barumu dengan contoh: \"Aku ingin mengganti pesananku jadi {nama makanan baru}\""
      ]
    },
    {
      "cell_type": "code",
      "execution_count": 6,
      "metadata": {
        "colab": {
          "base_uri": "https://localhost:8080/"
        },
        "id": "9fuI3hJ7u1en",
        "outputId": "820e24ad-602e-4a5d-80a3-9015fa726f6c"
      },
      "outputs": [
        {
          "output_type": "stream",
          "name": "stdout",
          "text": [
            "sate bencong\n",
            "gyukaku\n",
            "nasi goreng\n",
            "Aku ingin pesan sate bencong\n",
            "Aku ingin pesan gyukaku\n",
            "Aku ingin pesan nasi goreng\n",
            "Aku ingin mengganti pesananku jadi babi\n"
          ]
        }
      ],
      "source": [
        "# 1\n",
        "favorit = (\"sate bencong\", \"gyukaku\", \"nasi goreng\")\n",
        "\n",
        "# 2\n",
        "for a in favorit:\n",
        "  print (a)\n",
        "\n",
        "# 3\n",
        "for a in favorit:\n",
        "  print (\"Aku ingin pesan \" + a)\n",
        "\n",
        "# 4\n",
        "fav = \"babi\"\n",
        "print (\"Aku ingin mengganti pesananku jadi \" + fav)\n"
      ]
    },
    {
      "cell_type": "markdown",
      "metadata": {
        "id": "YWl87pecu1en"
      },
      "source": [
        "III. Set\n",
        "\n",
        "1. Buatlah 4 buah set sebagai berikut\n",
        "\n",
        "\n",
        "    set1 = {1, 2, 3, 4}\n",
        "    set2 = {2, 4, 6, 8}\n",
        "    set3 = {5, 7}\n",
        "    set4 = {2, 3}\n",
        "2. Gabungkan set1 dan set2 dengan menghilangkan duplicates\n",
        "3. Buktikan set1 dan set3 tidak mempunyai intersection (output : Boolean)\n",
        "4. Buktikan set4 adalah bagian dari set1 (output : Boolean)"
      ]
    },
    {
      "cell_type": "code",
      "execution_count": 7,
      "metadata": {
        "id": "Qgx8YGSpu1en",
        "colab": {
          "base_uri": "https://localhost:8080/"
        },
        "outputId": "0c68c718-b1ef-421b-828c-e1389ee8faee"
      },
      "outputs": [
        {
          "output_type": "stream",
          "name": "stdout",
          "text": [
            "{1, 2, 3, 4, 6, 8}\n",
            "False\n",
            "True\n"
          ]
        }
      ],
      "source": [
        "# 1\n",
        "set1 = {1, 2, 3, 4}\n",
        "set2 = {2, 4, 6, 8}\n",
        "set3 = {5, 7}\n",
        "set4 = {2, 3}\n",
        "\n",
        "# 2\n",
        "satudua = set1.union(set2)\n",
        "print (satudua)\n",
        "\n",
        "# 3\n",
        "print (bool(set1.intersection(set3)))\n",
        "\n",
        "# 4\n",
        "print (bool(set4.issubset(set1)))"
      ]
    },
    {
      "cell_type": "markdown",
      "metadata": {
        "id": "uhpPy3xWu1en"
      },
      "source": [
        "<h2> Python Programming Fundamentals"
      ]
    },
    {
      "cell_type": "markdown",
      "metadata": {
        "id": "OEgpX5aYu1eo"
      },
      "source": [
        "I. Buatlah sebuah program sederhana yang meminta inputan dari user berupa jumlah penggunaan listrik (munculkan error jika input selain angka) dan menghasilkan output berupa tarif yang harus dibayar dengan syarat sebagai berikut:\n",
        "\n",
        "PLN menerapkan pembayaran listrik perumahan dengan perhitungan sebagai berikut:\n",
        "* untuk golongan 1 (penggunaan <1000 kWh) tarif : Rp1000/kWh\n",
        "* untuk golongan 2 (penggunaan >= 1000 kWh) tarif : Rp2000/kWh\n",
        "\n",
        "Dengan syarat perhitungan:\n",
        "\n",
        "Minimum pembayaran adalah 100 kWh sedangkan untuk pemakaian 1000 kWh dan seterusnya tarifnya ditambah 10% dari total pembayaran.\n",
        "\n",
        "(Jika total penggunaan <100 kWh, maka akan dikenakan tarif 100 kWh)"
      ]
    },
    {
      "cell_type": "code",
      "execution_count": 24,
      "metadata": {
        "colab": {
          "base_uri": "https://localhost:8080/"
        },
        "id": "Q6vIyfIdu1eo",
        "outputId": "9964b056-7ca2-43b3-9b0c-d90ca989379e"
      },
      "outputs": [
        {
          "output_type": "stream",
          "name": "stdout",
          "text": [
            "Jumlah penggunaan listrik (kWh): 700\n",
            "Total biayanya 700000.0\n"
          ]
        }
      ],
      "source": [
        "# Program Bayar Listrik\n",
        "while True:\n",
        "    penggunaan = input(\"Jumlah penggunaan listrik (kWh): \")\n",
        "\n",
        "    if penggunaan.isdigit():\n",
        "        penggunaan = float(penggunaan)\n",
        "        break\n",
        "    else:\n",
        "        print(\"Input tidak valid. Harap masukkan angka yang benar.\")\n",
        "\n",
        "if penggunaan < 100:\n",
        "  biaya = 100 * 1000\n",
        "elif penggunaan < 1000:\n",
        "  biaya = penggunaan * 1000\n",
        "elif penggunaan >= 1000:\n",
        "  biaya = penggunaan * 2000\n",
        "  biaya = biaya + (0.1 * biaya)\n",
        "\n",
        "\n",
        "print (\"Total biayanya \" + str(biaya))"
      ]
    },
    {
      "cell_type": "markdown",
      "metadata": {
        "id": "Bqp7xI2Nu1eo"
      },
      "source": [
        "II. Untuk Abdimas Oweek UC digunakan angkot dengan kapasitas 10 orang per angkot. Apabila terjadi kelebihan penumpang (walau hanya 1 orang), angkot yang digunakan ditambah 1. Tulislah program untuk menghitung jumlah angkot yang diperlukan bila jumlah pesertanya menggunakan input().\n",
        "\n",
        "Catatan, pastikan jika angka yang dimasukkan negatif, muncul peringatan \"Jumlah orang tidak bisa negatif!\""
      ]
    },
    {
      "cell_type": "code",
      "execution_count": 36,
      "metadata": {
        "id": "C8thFHRbu1ep",
        "colab": {
          "base_uri": "https://localhost:8080/"
        },
        "outputId": "7191f877-ea49-4dde-acaa-0e886f650e8e"
      },
      "outputs": [
        {
          "output_type": "stream",
          "name": "stdout",
          "text": [
            "Jumlah orang: -1\n",
            "Jumlah orang tidak bisa negatif.\n"
          ]
        }
      ],
      "source": [
        "# Program Angkot Abdimas UC\n",
        "\n",
        "kapasitas = int(input(\"Jumlah orang: \"))\n",
        "\n",
        "import math\n",
        "if kapasitas > 0:\n",
        "    angkot = math.ceil(kapasitas / 10)\n",
        "    print (\"Total angkot \" + str(angkot))\n",
        "else:\n",
        "    print(\"Jumlah orang tidak bisa negatif.\")\n"
      ]
    },
    {
      "cell_type": "markdown",
      "metadata": {
        "id": "zmpc0H2cu1ep"
      },
      "source": [
        "<h2> Numpy"
      ]
    },
    {
      "cell_type": "markdown",
      "metadata": {
        "id": "NH_6KTdZu1ep"
      },
      "source": [
        "1. Buatlah 1D numpy array berisi nama nama hari dalam satu minggu\n",
        "2. Gunakan sort untuk mengurutkan array sesuai abjad\n",
        "3. Gunakan random untuk mengambil 1 hari dari array, cetakhlah dalam format: \"Selamat hari \\<nama hari\\> adalah hari baikmu bulan ini!\"\n",
        "4. Buat dan cetaklah matriks 3x4 menggunakan numpy array berisi angka random dari 1-6, lalu cetak shape dan dimensi array\n",
        "5. Cetaklah elemen kolom ketiga dari matrix\n",
        "\n",
        "    [[1 ,2, 3, 4],\n",
        "\n",
        "    [5, 6, 7, 8],\n",
        "\n",
        "    [9, 10, 11, 12]]\n",
        "6. Gunakan reshape untuk mengubah matrix di atas menjadi matriks berukuran (2, 6)"
      ]
    },
    {
      "cell_type": "code",
      "execution_count": 49,
      "metadata": {
        "id": "7u2L4rYWu1ep"
      },
      "outputs": [],
      "source": [
        "import numpy as np\n",
        "\n",
        "# 1\n",
        "hr = np.array (['Senin', 'Selasa', 'Rabu', 'Kamis', 'Jumat', 'Sabtu', 'Minggu'])"
      ]
    },
    {
      "cell_type": "code",
      "source": [
        "# 2\n",
        "hr.sort()\n",
        "print (hr)"
      ],
      "metadata": {
        "id": "7aI1VcHsInbd",
        "colab": {
          "base_uri": "https://localhost:8080/"
        },
        "outputId": "acc01c79-ac9f-4f9c-a141-4ed83c183f25"
      },
      "execution_count": 50,
      "outputs": [
        {
          "output_type": "stream",
          "name": "stdout",
          "text": [
            "['Jumat' 'Kamis' 'Minggu' 'Rabu' 'Sabtu' 'Selasa' 'Senin']\n"
          ]
        }
      ]
    },
    {
      "cell_type": "code",
      "source": [
        "# 3\n",
        "hari = hr[np.random.randint(0,7)]\n",
        "print (\"Selamat hari\", hari, \"adalah hari baikmu bulan ini!\")"
      ],
      "metadata": {
        "id": "1KahrwRLIo9j",
        "colab": {
          "base_uri": "https://localhost:8080/"
        },
        "outputId": "ef21ae7e-aaf2-41fd-c82f-3b8c9e487f27"
      },
      "execution_count": 52,
      "outputs": [
        {
          "output_type": "stream",
          "name": "stdout",
          "text": [
            "Selamat hari Senin adalah hari baikmu bulan ini!\n"
          ]
        }
      ]
    },
    {
      "cell_type": "code",
      "source": [
        "# 4\n",
        "matriks = np.random.randint(1, 7, size=(3, 4))\n",
        "print (matriks)\n",
        "print (matriks.shape)\n",
        "print (matriks.ndim)"
      ],
      "metadata": {
        "id": "9i8pmTJxIqwg",
        "colab": {
          "base_uri": "https://localhost:8080/"
        },
        "outputId": "a8344013-d204-4448-ce94-7cf78b99dab1"
      },
      "execution_count": 53,
      "outputs": [
        {
          "output_type": "stream",
          "name": "stdout",
          "text": [
            "[[2 3 5 6]\n",
            " [3 6 1 5]\n",
            " [1 3 4 3]]\n",
            "(3, 4)\n",
            "2\n"
          ]
        }
      ]
    },
    {
      "cell_type": "code",
      "execution_count": 54,
      "metadata": {
        "id": "deanH7rbNQDz",
        "colab": {
          "base_uri": "https://localhost:8080/"
        },
        "outputId": "0176648a-5871-4820-e275-7a68c65d05d1"
      },
      "outputs": [
        {
          "output_type": "stream",
          "name": "stdout",
          "text": [
            "[ 3  7 11]\n"
          ]
        }
      ],
      "source": [
        "# 5\n",
        "m = np.array ([[1 ,2, 3, 4], [5, 6, 7, 8], [9, 10, 11, 12]])\n",
        "print (m[:, 2])"
      ]
    },
    {
      "cell_type": "code",
      "source": [
        "# 6\n",
        "m = m.reshape(2, 6)\n",
        "print (m)\n"
      ],
      "metadata": {
        "id": "8SDYNL0-IxIE",
        "colab": {
          "base_uri": "https://localhost:8080/"
        },
        "outputId": "c69a6f3e-c34a-4b7a-b1e2-fe997706bddb"
      },
      "execution_count": 55,
      "outputs": [
        {
          "output_type": "stream",
          "name": "stdout",
          "text": [
            "[[ 1  2  3  4  5  6]\n",
            " [ 7  8  9 10 11 12]]\n"
          ]
        }
      ]
    },
    {
      "cell_type": "code",
      "source": [],
      "metadata": {
        "id": "N44md8_rlC6x"
      },
      "execution_count": 37,
      "outputs": []
    },
    {
      "cell_type": "markdown",
      "metadata": {
        "id": "IJ-xiFGCu1ep"
      },
      "source": [
        "<h2> Pandas"
      ]
    },
    {
      "cell_type": "markdown",
      "metadata": {
        "id": "W1GPuTsQu1eq"
      },
      "source": [
        "1. Buatlah Pandas Series dari list [\"Information\", \"Systems\", \"for\", \"Business\"]\n",
        "2. Buatlah Pandas Dataframe dari dictionary\n",
        "{ \"brand\": \"Ford\", \"model\": \"Mustang\", \"year\": 1964 }"
      ]
    },
    {
      "cell_type": "code",
      "execution_count": 56,
      "metadata": {
        "id": "btISSDM7u1eq",
        "colab": {
          "base_uri": "https://localhost:8080/"
        },
        "outputId": "467b04b8-f635-4e4e-9f48-4242eda678dc"
      },
      "outputs": [
        {
          "output_type": "stream",
          "name": "stdout",
          "text": [
            "0    Information\n",
            "1        Systems\n",
            "2            for\n",
            "3       Business\n",
            "dtype: object\n",
            "  brand    model  year\n",
            "0  Ford  Mustang  1964\n"
          ]
        }
      ],
      "source": [
        "import pandas as pd\n",
        "\n",
        "# 1\n",
        "data = [\"Information\", \"Systems\", \"for\", \"Business\"]\n",
        "series = pd.Series(data)\n",
        "print (series)\n",
        "\n",
        "\n",
        "# 2\n",
        "data = { \"brand\": \"Ford\", \"model\": \"Mustang\", \"year\": 1964 }\n",
        "df = pd.DataFrame(data, index=[0])\n",
        "print (df)\n"
      ]
    },
    {
      "cell_type": "markdown",
      "metadata": {
        "id": "K6iLqp69u1eq"
      },
      "source": [
        "3. Import dataset berikut kedalam dataframe.    \n",
        "dataset : https://raw.githubusercontent.com/GTerrence/dataset/main/50_Startups.csv.xls\n",
        "4. Tunjukan kota apa saja yang ada dalam dataset tersebut\n",
        "5. Buatlah dataset baru yang menyimpan 10 row random dari dataset. Kemudian tunjukanlah 5 row pertamanya.\n",
        "6. Gunakan df.info() untuk melihat informasi singkat dari dataframe\n",
        "7. Tampilkan data 'R&D Spend' dan 'Marketing Spend' dari data yang berasal dari kota 'California'\n",
        "8. Temukan apa ada missing value dari setiap kolom\n",
        "9. Drop data yang memiliki profit di bawah 50000\n",
        "10. Urutkan Dataframe berdasarkan biaya marketing mulai dari terbesar ke terkecil"
      ]
    },
    {
      "cell_type": "code",
      "execution_count": 58,
      "metadata": {
        "id": "Zz-a6B-Au1er",
        "colab": {
          "base_uri": "https://localhost:8080/"
        },
        "outputId": "c2d43a97-01f9-4b0b-9fb5-3037ab6412dc"
      },
      "outputs": [
        {
          "output_type": "stream",
          "name": "stdout",
          "text": [
            "    R&D Spend  Administration  Marketing Spend       State     Profit\n",
            "0   165349.20       136897.80        471784.10    New York  192261.83\n",
            "1   162597.70       151377.59        443898.53  California  191792.06\n",
            "2   153441.51       101145.55        407934.54     Florida  191050.39\n",
            "3   144372.41       118671.85        383199.62    New York  182901.99\n",
            "4   142107.34        91391.77        366168.42     Florida  166187.94\n",
            "5   131876.90        99814.71        362861.36    New York  156991.12\n",
            "6   134615.46       147198.87        127716.82  California  156122.51\n",
            "7   130298.13       145530.06        323876.68     Florida  155752.60\n",
            "8   120542.52       148718.95        311613.29    New York  152211.77\n",
            "9   123334.88       108679.17        304981.62  California  149759.96\n",
            "10  101913.08       110594.11        229160.95     Florida  146121.95\n",
            "11  100671.96        91790.61        249744.55  California  144259.40\n",
            "12   93863.75       127320.38        249839.44     Florida  141585.52\n",
            "13   91992.39       135495.07        252664.93  California  134307.35\n",
            "14  119943.24       156547.42        256512.92     Florida  132602.65\n",
            "15  114523.61       122616.84        261776.23    New York  129917.04\n",
            "16   78013.11       121597.55        264346.06  California  126992.93\n",
            "17   94657.16       145077.58        282574.31    New York  125370.37\n",
            "18   91749.16       114175.79        294919.57     Florida  124266.90\n",
            "19   86419.70       153514.11             0.00    New York  122776.86\n",
            "20   76253.86       113867.30        298664.47  California  118474.03\n",
            "21   78389.47       153773.43        299737.29    New York  111313.02\n",
            "22   73994.56       122782.75        303319.26     Florida  110352.25\n",
            "23   67532.53       105751.03        304768.73     Florida  108733.99\n",
            "24   77044.01        99281.34        140574.81    New York  108552.04\n",
            "25   64664.71       139553.16        137962.62  California  107404.34\n",
            "26   75328.87       144135.98        134050.07     Florida  105733.54\n",
            "27   72107.60       127864.55        353183.81    New York  105008.31\n",
            "28   66051.52       182645.56        118148.20     Florida  103282.38\n",
            "29   65605.48       153032.06        107138.38    New York  101004.64\n",
            "30   61994.48       115641.28         91131.24     Florida   99937.59\n",
            "31   61136.38       152701.92         88218.23    New York   97483.56\n",
            "32   63408.86       129219.61         46085.25  California   97427.84\n",
            "33   55493.95       103057.49        214634.81     Florida   96778.92\n",
            "34   46426.07       157693.92        210797.67  California   96712.80\n",
            "35   46014.02        85047.44        205517.64    New York   96479.51\n",
            "36   28663.76       127056.21        201126.82     Florida   90708.19\n",
            "37   44069.95        51283.14        197029.42  California   89949.14\n",
            "38   20229.59        65947.93        185265.10    New York   81229.06\n",
            "39   38558.51        82982.09        174999.30  California   81005.76\n",
            "40   28754.33       118546.05        172795.67  California   78239.91\n",
            "41   27892.92        84710.77        164470.71     Florida   77798.83\n",
            "42   23640.93        96189.63        148001.11  California   71498.49\n",
            "43   15505.73       127382.30         35534.17    New York   69758.98\n",
            "44   22177.74       154806.14         28334.72  California   65200.33\n",
            "45    1000.23       124153.04          1903.93    New York   64926.08\n",
            "46    1315.46       115816.21        297114.46     Florida   49490.75\n",
            "47       0.00       135426.92             0.00  California   42559.73\n",
            "48     542.05        51743.15             0.00    New York   35673.41\n",
            "49       0.00       116983.80         45173.06  California   14681.40\n"
          ]
        }
      ],
      "source": [
        "# 3\n",
        "df = pd.read_csv('https://raw.githubusercontent.com/GTerrence/dataset/main/50_Startups.csv.xls')\n",
        "print (df)\n"
      ]
    },
    {
      "cell_type": "code",
      "execution_count": 59,
      "metadata": {
        "id": "8hsqamWrCimw",
        "colab": {
          "base_uri": "https://localhost:8080/"
        },
        "outputId": "7669fd51-e07f-4e87-b410-885c280cf5a3"
      },
      "outputs": [
        {
          "output_type": "stream",
          "name": "stdout",
          "text": [
            "['New York' 'California' 'Florida']\n"
          ]
        }
      ],
      "source": [
        "# 4\n",
        "print (df['State'].unique())\n"
      ]
    },
    {
      "cell_type": "code",
      "execution_count": 63,
      "metadata": {
        "id": "xCcT75YOCmX3",
        "colab": {
          "base_uri": "https://localhost:8080/"
        },
        "outputId": "83a4ec8b-cb0c-4fc0-8021-f233a725c497"
      },
      "outputs": [
        {
          "output_type": "stream",
          "name": "stdout",
          "text": [
            "    R&D Spend  Administration  Marketing Spend       State     Profit\n",
            "0   165349.20       136897.80        471784.10    New York  192261.83\n",
            "26   75328.87       144135.98        134050.07     Florida  105733.54\n",
            "48     542.05        51743.15             0.00    New York   35673.41\n",
            "40   28754.33       118546.05        172795.67  California   78239.91\n",
            "34   46426.07       157693.92        210797.67  California   96712.80\n"
          ]
        }
      ],
      "source": [
        "# 5\n",
        "df = df.sample(n=10)\n",
        "print (df.head())"
      ]
    },
    {
      "cell_type": "code",
      "execution_count": 64,
      "metadata": {
        "id": "kgHgGEVoCqGR",
        "colab": {
          "base_uri": "https://localhost:8080/"
        },
        "outputId": "4e0add4a-3f0d-4b07-fb57-43aec39e0480"
      },
      "outputs": [
        {
          "output_type": "stream",
          "name": "stdout",
          "text": [
            "<class 'pandas.core.frame.DataFrame'>\n",
            "Index: 10 entries, 0 to 41\n",
            "Data columns (total 5 columns):\n",
            " #   Column           Non-Null Count  Dtype  \n",
            "---  ------           --------------  -----  \n",
            " 0   R&D Spend        10 non-null     float64\n",
            " 1   Administration   10 non-null     float64\n",
            " 2   Marketing Spend  10 non-null     float64\n",
            " 3   State            10 non-null     object \n",
            " 4   Profit           10 non-null     float64\n",
            "dtypes: float64(4), object(1)\n",
            "memory usage: 480.0+ bytes\n"
          ]
        }
      ],
      "source": [
        "# 6\n",
        "df.info()"
      ]
    },
    {
      "cell_type": "code",
      "execution_count": 65,
      "metadata": {
        "id": "Mc3zul5PA2TD",
        "colab": {
          "base_uri": "https://localhost:8080/"
        },
        "outputId": "374f4633-667e-47f4-ba8e-da2dba2f6ee6"
      },
      "outputs": [
        {
          "output_type": "stream",
          "name": "stdout",
          "text": [
            "    R&D Spend  Marketing Spend\n",
            "40   28754.33        172795.67\n",
            "34   46426.07        210797.67\n",
            "20   76253.86        298664.47\n",
            "9   123334.88        304981.62\n"
          ]
        }
      ],
      "source": [
        "# 7\n",
        "print (df.loc[df['State'] == 'California', ['R&D Spend', 'Marketing Spend']])\n"
      ]
    },
    {
      "cell_type": "code",
      "execution_count": 66,
      "metadata": {
        "id": "M1SY-gGACRy0",
        "colab": {
          "base_uri": "https://localhost:8080/"
        },
        "outputId": "9db55b4f-8b4d-45e8-9283-3b878cfa2ca6"
      },
      "outputs": [
        {
          "output_type": "stream",
          "name": "stdout",
          "text": [
            "R&D Spend          0\n",
            "Administration     0\n",
            "Marketing Spend    0\n",
            "State              0\n",
            "Profit             0\n",
            "dtype: int64\n"
          ]
        }
      ],
      "source": [
        "# 8\n",
        "print (df.isnull().sum())"
      ]
    },
    {
      "cell_type": "code",
      "execution_count": 67,
      "metadata": {
        "id": "XS3SV8--CeLJ",
        "colab": {
          "base_uri": "https://localhost:8080/"
        },
        "outputId": "fc5b008a-c7b8-4d83-d197-c7f2656e2898"
      },
      "outputs": [
        {
          "output_type": "stream",
          "name": "stdout",
          "text": [
            "    R&D Spend  Administration  Marketing Spend       State     Profit\n",
            "0   165349.20       136897.80        471784.10    New York  192261.83\n",
            "26   75328.87       144135.98        134050.07     Florida  105733.54\n",
            "40   28754.33       118546.05        172795.67  California   78239.91\n",
            "34   46426.07       157693.92        210797.67  California   96712.80\n",
            "20   76253.86       113867.30        298664.47  California  118474.03\n",
            "38   20229.59        65947.93        185265.10    New York   81229.06\n",
            "9   123334.88       108679.17        304981.62  California  149759.96\n",
            "17   94657.16       145077.58        282574.31    New York  125370.37\n",
            "41   27892.92        84710.77        164470.71     Florida   77798.83\n"
          ]
        }
      ],
      "source": [
        "# 9\n",
        "df = df[df['Profit'] >= 50000]\n",
        "print (df)"
      ]
    },
    {
      "cell_type": "code",
      "execution_count": 68,
      "metadata": {
        "id": "mbt-zuboEm3A",
        "colab": {
          "base_uri": "https://localhost:8080/"
        },
        "outputId": "9812b9ee-b851-4a8c-85f8-ff4ceb98b9ae"
      },
      "outputs": [
        {
          "output_type": "stream",
          "name": "stdout",
          "text": [
            "    R&D Spend  Administration  Marketing Spend       State     Profit\n",
            "0   165349.20       136897.80        471784.10    New York  192261.83\n",
            "9   123334.88       108679.17        304981.62  California  149759.96\n",
            "20   76253.86       113867.30        298664.47  California  118474.03\n",
            "17   94657.16       145077.58        282574.31    New York  125370.37\n",
            "34   46426.07       157693.92        210797.67  California   96712.80\n",
            "38   20229.59        65947.93        185265.10    New York   81229.06\n",
            "40   28754.33       118546.05        172795.67  California   78239.91\n",
            "41   27892.92        84710.77        164470.71     Florida   77798.83\n",
            "26   75328.87       144135.98        134050.07     Florida  105733.54\n"
          ]
        }
      ],
      "source": [
        "# 10\n",
        "df = df.sort_values(by='Marketing Spend', ascending=False)\n",
        "print (df)"
      ]
    },
    {
      "cell_type": "markdown",
      "metadata": {
        "id": "4OfOaA0xu1er"
      },
      "source": [
        "<h2> Data Cleaning"
      ]
    },
    {
      "cell_type": "markdown",
      "metadata": {
        "id": "Krb_r6quu1es"
      },
      "source": [
        "1. Import dataset berikut ke dalam dataframe.   \n",
        "   dataset : https://raw.githubusercontent.com/GTerrence/dataset/main/real_estate.csv\n",
        "2. Tampilkan 10 data random dari dataset di atas\n",
        "3. Cari informasi data dengan menggunakan fungsi describe\n",
        "4. Hapus kolom 'No' dan ubahlah nama kolom dalam dataframe menjadi 'transaction_date', 'house_age', 'distance_to_the_nearest_MRT_station', 'number_of_convinience_stores', 'latitude', 'longitude', 'house_price_of_unit_area'\n",
        "5. Cek apakah ada missing values dari masing-masing kolom"
      ]
    },
    {
      "cell_type": "code",
      "execution_count": 69,
      "metadata": {
        "id": "NAl8hGLHu1es",
        "colab": {
          "base_uri": "https://localhost:8080/"
        },
        "outputId": "adb5dff9-e4f2-481b-d2ce-510fe6a59378"
      },
      "outputs": [
        {
          "output_type": "stream",
          "name": "stdout",
          "text": [
            "      No  X1 transaction date  X2 house age  \\\n",
            "0      1             2012.917          32.0   \n",
            "1      2             2012.917          19.5   \n",
            "2      3             2013.583          13.3   \n",
            "3      4             2013.500          13.3   \n",
            "4      5             2012.833           5.0   \n",
            "..   ...                  ...           ...   \n",
            "409  410             2013.000          13.7   \n",
            "410  411             2012.667           5.6   \n",
            "411  412             2013.250          18.8   \n",
            "412  413             2013.000           8.1   \n",
            "413  414             2013.500           6.5   \n",
            "\n",
            "     X3 distance to the nearest MRT station  X4 number of convenience stores  \\\n",
            "0                                  84.87882                               10   \n",
            "1                                 306.59470                                9   \n",
            "2                                 561.98450                                5   \n",
            "3                                 561.98450                                5   \n",
            "4                                 390.56840                                5   \n",
            "..                                      ...                              ...   \n",
            "409                              4082.01500                                0   \n",
            "410                                90.45606                                9   \n",
            "411                               390.96960                                7   \n",
            "412                               104.81010                                5   \n",
            "413                                90.45606                                9   \n",
            "\n",
            "     X5 latitude  X6 longitude  Y house price of unit area  \n",
            "0       24.98298     121.54024                        37.9  \n",
            "1       24.98034     121.53951                        42.2  \n",
            "2       24.98746     121.54391                        47.3  \n",
            "3       24.98746     121.54391                        54.8  \n",
            "4       24.97937     121.54245                        43.1  \n",
            "..           ...           ...                         ...  \n",
            "409     24.94155     121.50381                        15.4  \n",
            "410     24.97433     121.54310                        50.0  \n",
            "411     24.97923     121.53986                        40.6  \n",
            "412     24.96674     121.54067                        52.5  \n",
            "413     24.97433     121.54310                        63.9  \n",
            "\n",
            "[414 rows x 8 columns]\n"
          ]
        }
      ],
      "source": [
        "# 1\n",
        "df = pd.read_csv('https://raw.githubusercontent.com/GTerrence/dataset/main/real_estate.csv')\n",
        "print (df)\n"
      ]
    },
    {
      "cell_type": "code",
      "execution_count": 70,
      "metadata": {
        "id": "YWjZAHGdFXhK",
        "colab": {
          "base_uri": "https://localhost:8080/"
        },
        "outputId": "732eadf1-f834-4bc5-c214-6aece8f3352c"
      },
      "outputs": [
        {
          "output_type": "stream",
          "name": "stdout",
          "text": [
            "      No  X1 transaction date  X2 house age  \\\n",
            "343  344             2013.000          33.5   \n",
            "352  353             2012.833          18.4   \n",
            "171  172             2013.083           3.6   \n",
            "325  326             2013.083          36.6   \n",
            "40    41             2013.000          13.6   \n",
            "4      5             2012.833           5.0   \n",
            "117  118             2013.000          13.6   \n",
            "8      9             2013.500          31.7   \n",
            "20    21             2013.417           4.5   \n",
            "206  207             2013.250          22.2   \n",
            "\n",
            "     X3 distance to the nearest MRT station  X4 number of convenience stores  \\\n",
            "343                                563.2854                                8   \n",
            "352                               2674.9610                                3   \n",
            "171                                383.8624                                5   \n",
            "325                                488.8193                                8   \n",
            "40                                4082.0150                                0   \n",
            "4                                  390.5684                                5   \n",
            "117                               4197.3490                                0   \n",
            "8                                 5512.0380                                1   \n",
            "20                                2275.8770                                3   \n",
            "206                                379.5575                               10   \n",
            "\n",
            "     X5 latitude  X6 longitude  Y house price of unit area  \n",
            "343     24.98223     121.53597                        46.6  \n",
            "352     24.96143     121.50827                        25.7  \n",
            "171     24.98085     121.54391                        58.8  \n",
            "325     24.97015     121.54494                        38.1  \n",
            "40      24.94155     121.50381                        15.9  \n",
            "4       24.97937     121.54245                        43.1  \n",
            "117     24.93885     121.50383                        13.0  \n",
            "8       24.95095     121.48458                        18.8  \n",
            "20      24.96314     121.51151                        29.3  \n",
            "206     24.98343     121.53762                        44.0  \n"
          ]
        }
      ],
      "source": [
        "# 2\n",
        "print (df.sample(n=10))"
      ]
    },
    {
      "cell_type": "code",
      "execution_count": 71,
      "metadata": {
        "id": "WYXICVmkFgAo",
        "colab": {
          "base_uri": "https://localhost:8080/"
        },
        "outputId": "6bc9e966-5725-4449-dbb0-3282cb2f2581"
      },
      "outputs": [
        {
          "output_type": "stream",
          "name": "stdout",
          "text": [
            "               No  X1 transaction date  X2 house age  \\\n",
            "count  414.000000           414.000000    414.000000   \n",
            "mean   207.500000          2013.148971     17.712560   \n",
            "std    119.655756             0.281967     11.392485   \n",
            "min      1.000000          2012.667000      0.000000   \n",
            "25%    104.250000          2012.917000      9.025000   \n",
            "50%    207.500000          2013.167000     16.100000   \n",
            "75%    310.750000          2013.417000     28.150000   \n",
            "max    414.000000          2013.583000     43.800000   \n",
            "\n",
            "       X3 distance to the nearest MRT station  \\\n",
            "count                              414.000000   \n",
            "mean                              1083.885689   \n",
            "std                               1262.109595   \n",
            "min                                 23.382840   \n",
            "25%                                289.324800   \n",
            "50%                                492.231300   \n",
            "75%                               1454.279000   \n",
            "max                               6488.021000   \n",
            "\n",
            "       X4 number of convenience stores  X5 latitude  X6 longitude  \\\n",
            "count                       414.000000   414.000000    414.000000   \n",
            "mean                          4.094203    24.969030    121.533361   \n",
            "std                           2.945562     0.012410      0.015347   \n",
            "min                           0.000000    24.932070    121.473530   \n",
            "25%                           1.000000    24.963000    121.528085   \n",
            "50%                           4.000000    24.971100    121.538630   \n",
            "75%                           6.000000    24.977455    121.543305   \n",
            "max                          10.000000    25.014590    121.566270   \n",
            "\n",
            "       Y house price of unit area  \n",
            "count                  414.000000  \n",
            "mean                    37.980193  \n",
            "std                     13.606488  \n",
            "min                      7.600000  \n",
            "25%                     27.700000  \n",
            "50%                     38.450000  \n",
            "75%                     46.600000  \n",
            "max                    117.500000  \n"
          ]
        }
      ],
      "source": [
        "# 3\n",
        "print (df.describe())"
      ]
    },
    {
      "cell_type": "code",
      "execution_count": 72,
      "metadata": {
        "id": "v1scoJ2bFraH"
      },
      "outputs": [],
      "source": [
        "# 4\n",
        "df = df.drop(columns=['No'])"
      ]
    },
    {
      "cell_type": "code",
      "execution_count": 73,
      "metadata": {
        "id": "O_EVut8-GE7b",
        "colab": {
          "base_uri": "https://localhost:8080/"
        },
        "outputId": "8de91c62-3f58-4932-bb9a-fa774bff331a"
      },
      "outputs": [
        {
          "output_type": "stream",
          "name": "stdout",
          "text": [
            "X1 transaction date                       0\n",
            "X2 house age                              0\n",
            "X3 distance to the nearest MRT station    0\n",
            "X4 number of convenience stores           0\n",
            "X5 latitude                               0\n",
            "X6 longitude                              0\n",
            "Y house price of unit area                0\n",
            "dtype: int64\n"
          ]
        }
      ],
      "source": [
        "# 5\n",
        "print (df.isnull().sum())"
      ]
    }
  ],
  "metadata": {
    "colab": {
      "provenance": []
    },
    "kernelspec": {
      "display_name": "Python 3 (ipykernel)",
      "language": "python",
      "name": "python3"
    },
    "language_info": {
      "codemirror_mode": {
        "name": "ipython",
        "version": 3
      },
      "file_extension": ".py",
      "mimetype": "text/x-python",
      "name": "python",
      "nbconvert_exporter": "python",
      "pygments_lexer": "ipython3",
      "version": "3.9.12"
    }
  },
  "nbformat": 4,
  "nbformat_minor": 0
}